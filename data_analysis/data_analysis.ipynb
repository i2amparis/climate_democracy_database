{
 "cells": [
  {
   "cell_type": "code",
   "execution_count": 1,
   "id": "b38a2e90-552f-4f41-9a28-2b9f91a617e5",
   "metadata": {},
   "outputs": [],
   "source": [
    "import pandas as pd"
   ]
  },
  {
   "cell_type": "code",
   "execution_count": 2,
   "id": "b48ba2a0-a9e0-41f3-94d1-2729fad2a63f",
   "metadata": {},
   "outputs": [],
   "source": [
    "df = pd.read_excel('../input_data/climate_democracy_data.xlsx')"
   ]
  },
  {
   "cell_type": "code",
   "execution_count": 7,
   "id": "704e702a-eaf3-4420-89e6-bae08eb2127e",
   "metadata": {},
   "outputs": [],
   "source": [
    "df_melt = df.melt(id_vars=['countryname','observation_year'])"
   ]
  },
  {
   "cell_type": "code",
   "execution_count": 12,
   "id": "dc6f9975-e2e9-4a78-af1e-a1cd65257d4e",
   "metadata": {},
   "outputs": [],
   "source": [
    "df_melt['value'] = df_melt.value.str.replace(',','.')"
   ]
  },
  {
   "cell_type": "code",
   "execution_count": 10,
   "id": "317a2b6c-f0bc-4bc9-b087-25445e1e60f3",
   "metadata": {},
   "outputs": [
    {
     "ename": "ValueError",
     "evalue": "Unable to parse string \"20,9\" at position 0",
     "output_type": "error",
     "traceback": [
      "\u001b[0;31m---------------------------------------------------------------------------\u001b[0m",
      "\u001b[0;31mValueError\u001b[0m                                Traceback (most recent call last)",
      "File \u001b[0;32mlib.pyx:2374\u001b[0m, in \u001b[0;36mpandas._libs.lib.maybe_convert_numeric\u001b[0;34m()\u001b[0m\n",
      "\u001b[0;31mValueError\u001b[0m: Unable to parse string \"20,9\"",
      "\nDuring handling of the above exception, another exception occurred:\n",
      "\u001b[0;31mValueError\u001b[0m                                Traceback (most recent call last)",
      "Cell \u001b[0;32mIn[10], line 1\u001b[0m\n\u001b[0;32m----> 1\u001b[0m \u001b[43mpd\u001b[49m\u001b[38;5;241;43m.\u001b[39;49m\u001b[43mto_numeric\u001b[49m\u001b[43m(\u001b[49m\u001b[43mdf_melt\u001b[49m\u001b[38;5;241;43m.\u001b[39;49m\u001b[43mvalue\u001b[49m\u001b[43m)\u001b[49m\n",
      "File \u001b[0;32m~/opt/miniconda3/envs/data/lib/python3.9/site-packages/pandas/core/tools/numeric.py:222\u001b[0m, in \u001b[0;36mto_numeric\u001b[0;34m(arg, errors, downcast, dtype_backend)\u001b[0m\n\u001b[1;32m    220\u001b[0m coerce_numeric \u001b[38;5;241m=\u001b[39m errors \u001b[38;5;129;01mnot\u001b[39;00m \u001b[38;5;129;01min\u001b[39;00m (\u001b[38;5;124m\"\u001b[39m\u001b[38;5;124mignore\u001b[39m\u001b[38;5;124m\"\u001b[39m, \u001b[38;5;124m\"\u001b[39m\u001b[38;5;124mraise\u001b[39m\u001b[38;5;124m\"\u001b[39m)\n\u001b[1;32m    221\u001b[0m \u001b[38;5;28;01mtry\u001b[39;00m:\n\u001b[0;32m--> 222\u001b[0m     values, new_mask \u001b[38;5;241m=\u001b[39m \u001b[43mlib\u001b[49m\u001b[38;5;241;43m.\u001b[39;49m\u001b[43mmaybe_convert_numeric\u001b[49m\u001b[43m(\u001b[49m\u001b[43m  \u001b[49m\u001b[38;5;66;43;03m# type: ignore[call-overload]  # noqa: E501\u001b[39;49;00m\n\u001b[1;32m    223\u001b[0m \u001b[43m        \u001b[49m\u001b[43mvalues\u001b[49m\u001b[43m,\u001b[49m\n\u001b[1;32m    224\u001b[0m \u001b[43m        \u001b[49m\u001b[38;5;28;43mset\u001b[39;49m\u001b[43m(\u001b[49m\u001b[43m)\u001b[49m\u001b[43m,\u001b[49m\n\u001b[1;32m    225\u001b[0m \u001b[43m        \u001b[49m\u001b[43mcoerce_numeric\u001b[49m\u001b[38;5;241;43m=\u001b[39;49m\u001b[43mcoerce_numeric\u001b[49m\u001b[43m,\u001b[49m\n\u001b[1;32m    226\u001b[0m \u001b[43m        \u001b[49m\u001b[43mconvert_to_masked_nullable\u001b[49m\u001b[38;5;241;43m=\u001b[39;49m\u001b[43mdtype_backend\u001b[49m\u001b[43m \u001b[49m\u001b[38;5;129;43;01mis\u001b[39;49;00m\u001b[43m \u001b[49m\u001b[38;5;129;43;01mnot\u001b[39;49;00m\u001b[43m \u001b[49m\u001b[43mlib\u001b[49m\u001b[38;5;241;43m.\u001b[39;49m\u001b[43mno_default\u001b[49m\n\u001b[1;32m    227\u001b[0m \u001b[43m        \u001b[49m\u001b[38;5;129;43;01mor\u001b[39;49;00m\u001b[43m \u001b[49m\u001b[38;5;28;43misinstance\u001b[39;49m\u001b[43m(\u001b[49m\u001b[43mvalues_dtype\u001b[49m\u001b[43m,\u001b[49m\u001b[43m \u001b[49m\u001b[43mStringDtype\u001b[49m\u001b[43m)\u001b[49m\n\u001b[1;32m    228\u001b[0m \u001b[43m        \u001b[49m\u001b[38;5;129;43;01mand\u001b[39;49;00m\u001b[43m \u001b[49m\u001b[38;5;129;43;01mnot\u001b[39;49;00m\u001b[43m \u001b[49m\u001b[43mvalues_dtype\u001b[49m\u001b[38;5;241;43m.\u001b[39;49m\u001b[43mstorage\u001b[49m\u001b[43m \u001b[49m\u001b[38;5;241;43m==\u001b[39;49m\u001b[43m \u001b[49m\u001b[38;5;124;43m\"\u001b[39;49m\u001b[38;5;124;43mpyarrow_numpy\u001b[39;49m\u001b[38;5;124;43m\"\u001b[39;49m\u001b[43m,\u001b[49m\n\u001b[1;32m    229\u001b[0m \u001b[43m    \u001b[49m\u001b[43m)\u001b[49m\n\u001b[1;32m    230\u001b[0m \u001b[38;5;28;01mexcept\u001b[39;00m (\u001b[38;5;167;01mValueError\u001b[39;00m, \u001b[38;5;167;01mTypeError\u001b[39;00m):\n\u001b[1;32m    231\u001b[0m     \u001b[38;5;28;01mif\u001b[39;00m errors \u001b[38;5;241m==\u001b[39m \u001b[38;5;124m\"\u001b[39m\u001b[38;5;124mraise\u001b[39m\u001b[38;5;124m\"\u001b[39m:\n",
      "File \u001b[0;32mlib.pyx:2416\u001b[0m, in \u001b[0;36mpandas._libs.lib.maybe_convert_numeric\u001b[0;34m()\u001b[0m\n",
      "\u001b[0;31mValueError\u001b[0m: Unable to parse string \"20,9\" at position 0"
     ]
    }
   ],
   "source": [
    "pd.to_numeric(df_melt.value)"
   ]
  },
  {
   "cell_type": "code",
   "execution_count": 6,
   "id": "065a97f6-de2d-408f-9d81-b47b74e05cac",
   "metadata": {},
   "outputs": [
    {
     "data": {
      "text/plain": [
       "countryname         object\n",
       "observation_year     int64\n",
       "variable            object\n",
       "value               object\n",
       "dtype: object"
      ]
     },
     "execution_count": 6,
     "metadata": {},
     "output_type": "execute_result"
    }
   ],
   "source": [
    "df_melt.dtypes"
   ]
  },
  {
   "cell_type": "code",
   "execution_count": 4,
   "id": "da9d7fa6-8c24-410d-90a1-2f387adcee89",
   "metadata": {
    "scrolled": true
   },
   "outputs": [
    {
     "data": {
      "text/plain": [
       "array(['max_per501', 'min_per501', 'avg_per501', 'max_per703',\n",
       "       'min_per703', 'avg_per703', 'max_per416', 'min_per416',\n",
       "       'avg_per416', 'max_rile', 'min_rile', 'avg_rile', 'country_id',\n",
       "       'date', 'eu_year', 'oecd_year', 'early', 'seats_total', 'type_id',\n",
       "       'votes_cast', 'electorate', 'RenewableShare', 'EmissionsPC',\n",
       "       'EmissionsPD', 'EmploymentInd', 'GDPPerCapita', 'Growth',\n",
       "       'Population', 'UrbanPopulation', 'FemalePopulation',\n",
       "       'ElderlyPopulation', 'cpds_enps', 'cpds_lg', 'cpds_tg', 'dr_eg',\n",
       "       'dr_ig', 'dr_pg', 'dr_sg', 'ef_ef', 'fh_aor', 'fh_cl', 'fh_ep',\n",
       "       'fh_fog', 'fi_ftradeint', 'fi_index', 'gii_gii', 'iaep_es',\n",
       "       'icrg_qog', 'ipu_l_sw', 'nelda_mbbe', 'nelda_rpae', 'p_durable',\n",
       "       'p_polity2', 'sci_comp', 'undp_hdi', 'vdem_corr', 'vdem_delibdem',\n",
       "       'vdem_egaldem', 'vdem_gender', 'vdem_libdem', 'vdem_partipdem',\n",
       "       'vdem_polyarchy', 'wbgi_gee', 'wdi_unempyilo', 'wdi_ane',\n",
       "       'wdi_araland', 'wdi_debt', 'wdi_elerenew', 'wdi_elprodcoal',\n",
       "       'wdi_elprodgas', 'wdi_elprodhyd', 'wdi_elprodnuc', 'wdi_elprodoil',\n",
       "       'wdi_empagr', 'wdi_eneimp', 'wdi_expedu', 'wdi_forest', 'wdi_gini',\n",
       "       'wdi_migration', 'wdi_popden', 'wdi_taxrev', 'wdi_trade',\n",
       "       'min_environment', 'max_environment', 'avg_environment',\n",
       "       'min_lrgen', 'max_lrgen', 'avg_lrgen'], dtype=object)"
      ]
     },
     "execution_count": 4,
     "metadata": {},
     "output_type": "execute_result"
    }
   ],
   "source": [
    "df_melt.variable.unique()"
   ]
  },
  {
   "cell_type": "code",
   "execution_count": 13,
   "id": "13cc2072-9cfb-48ff-a4aa-4b9a777e1abf",
   "metadata": {},
   "outputs": [],
   "source": [
    "df_melt.to_excel(\"../input_data/climate_democracy_data_melt.xlsx\")"
   ]
  },
  {
   "cell_type": "code",
   "execution_count": null,
   "id": "c117ae75-d659-4dbc-a85e-6ab6087b7cd9",
   "metadata": {},
   "outputs": [],
   "source": []
  }
 ],
 "metadata": {
  "kernelspec": {
   "display_name": "Python 3 (ipykernel)",
   "language": "python",
   "name": "python3"
  },
  "language_info": {
   "codemirror_mode": {
    "name": "ipython",
    "version": 3
   },
   "file_extension": ".py",
   "mimetype": "text/x-python",
   "name": "python",
   "nbconvert_exporter": "python",
   "pygments_lexer": "ipython3",
   "version": "3.9.16"
  }
 },
 "nbformat": 4,
 "nbformat_minor": 5
}
