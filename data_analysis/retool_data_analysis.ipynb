{
 "cells": [
  {
   "cell_type": "code",
   "execution_count": 1,
   "id": "b38a2e90-552f-4f41-9a28-2b9f91a617e5",
   "metadata": {},
   "outputs": [],
   "source": [
    "import pandas as pd"
   ]
  },
  {
   "cell_type": "code",
   "execution_count": 2,
   "id": "b48ba2a0-a9e0-41f3-94d1-2729fad2a63f",
   "metadata": {},
   "outputs": [],
   "source": [
    "df = pd.read_excel(\"../input_data/climate_democracy_data.xlsx\")"
   ]
  },
  {
   "cell_type": "code",
   "execution_count": 8,
   "id": "704e702a-eaf3-4420-89e6-bae08eb2127e",
   "metadata": {},
   "outputs": [],
   "source": [
    "df_melt = df.melt(id_vars=['countryname','observation_year'])"
   ]
  },
  {
   "cell_type": "code",
   "execution_count": 11,
   "id": "da9d7fa6-8c24-410d-90a1-2f387adcee89",
   "metadata": {},
   "outputs": [
    {
     "data": {
      "text/plain": [
       "array(['max_per501', 'min_per501', 'avg_per501', 'max_per703',\n",
       "       'min_per703', 'avg_per703', 'max_per416', 'min_per416',\n",
       "       'avg_per416', 'max_rile', 'min_rile', 'avg_rile', 'country_id',\n",
       "       'date', 'eu_year', 'oecd_year', 'early', 'seats_total', 'type_id',\n",
       "       'votes_cast', 'electorate', 'RenewableShare', 'EmissionsPC',\n",
       "       'EmissionsPD', 'EmploymentInd', 'GDPPerCapita', 'Growth',\n",
       "       'Population', 'UrbanPopulation', 'FemalePopulation',\n",
       "       'ElderlyPopulation', 'cpds_enps', 'cpds_lg', 'cpds_tg', 'dr_eg',\n",
       "       'dr_ig', 'dr_pg', 'dr_sg', 'ef_ef', 'fh_aor', 'fh_cl', 'fh_ep',\n",
       "       'fh_fog', 'fi_ftradeint', 'fi_index', 'gii_gii', 'iaep_es',\n",
       "       'icrg_qog', 'ipu_l_sw', 'nelda_mbbe', 'nelda_rpae', 'p_durable',\n",
       "       'p_polity2', 'sci_comp', 'undp_hdi', 'vdem_corr', 'vdem_delibdem',\n",
       "       'vdem_egaldem', 'vdem_gender', 'vdem_libdem', 'vdem_partipdem',\n",
       "       'vdem_polyarchy', 'wbgi_gee', 'wdi_unempyilo', 'wdi_ane',\n",
       "       'wdi_araland', 'wdi_debt', 'wdi_elerenew', 'wdi_elprodcoal',\n",
       "       'wdi_elprodgas', 'wdi_elprodhyd', 'wdi_elprodnuc', 'wdi_elprodoil',\n",
       "       'wdi_empagr', 'wdi_eneimp', 'wdi_expedu', 'wdi_forest', 'wdi_gini',\n",
       "       'wdi_migration', 'wdi_popden', 'wdi_taxrev', 'wdi_trade',\n",
       "       'min_environment', 'max_environment', 'avg_environment',\n",
       "       'min_lrgen', 'max_lrgen', 'avg_lrgen'], dtype=object)"
      ]
     },
     "execution_count": 11,
     "metadata": {},
     "output_type": "execute_result"
    }
   ],
   "source": [
    "df_melt.variable.unique()"
   ]
  },
  {
   "cell_type": "code",
   "execution_count": 13,
   "id": "13cc2072-9cfb-48ff-a4aa-4b9a777e1abf",
   "metadata": {},
   "outputs": [],
   "source": [
    "df_melt.to_excel(\"../input_data/climate_democracy_data_melt.xlsx\")"
   ]
  },
  {
   "cell_type": "code",
   "execution_count": null,
   "id": "c117ae75-d659-4dbc-a85e-6ab6087b7cd9",
   "metadata": {},
   "outputs": [],
   "source": []
  }
 ],
 "metadata": {
  "kernelspec": {
   "display_name": "Python 3 (ipykernel)",
   "language": "python",
   "name": "python3"
  },
  "language_info": {
   "codemirror_mode": {
    "name": "ipython",
    "version": 3
   },
   "file_extension": ".py",
   "mimetype": "text/x-python",
   "name": "python",
   "nbconvert_exporter": "python",
   "pygments_lexer": "ipython3",
   "version": "3.9.16"
  }
 },
 "nbformat": 4,
 "nbformat_minor": 5
}
