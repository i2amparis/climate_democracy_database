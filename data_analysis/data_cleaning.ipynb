{
 "cells": [
  {
   "cell_type": "code",
   "execution_count": 132,
   "id": "b38a2e90-552f-4f41-9a28-2b9f91a617e5",
   "metadata": {},
   "outputs": [],
   "source": [
    "import pandas as pd"
   ]
  },
  {
   "cell_type": "code",
   "execution_count": 133,
   "id": "e5215a38-a9af-49e4-8d86-e7d0dc2b9dfe",
   "metadata": {},
   "outputs": [],
   "source": [
    "file_name = '202409_climate_democracy_data'"
   ]
  },
  {
   "cell_type": "code",
   "execution_count": 134,
   "id": "b48ba2a0-a9e0-41f3-94d1-2729fad2a63f",
   "metadata": {},
   "outputs": [],
   "source": [
    "df = pd.read_excel(f'../input_data/{file_name}.xlsx')"
   ]
  },
  {
   "cell_type": "code",
   "execution_count": 136,
   "id": "704e702a-eaf3-4420-89e6-bae08eb2127e",
   "metadata": {},
   "outputs": [],
   "source": [
    "df_melt = df.melt(id_vars=['countryname','observation_year','date'])"
   ]
  },
  {
   "cell_type": "code",
   "execution_count": 138,
   "id": "317a2b6c-f0bc-4bc9-b087-25445e1e60f3",
   "metadata": {},
   "outputs": [
    {
     "data": {
      "text/plain": [
       "countryname          object\n",
       "observation_year      int64\n",
       "date                 object\n",
       "variable             object\n",
       "value               float64\n",
       "dtype: object"
      ]
     },
     "execution_count": 138,
     "metadata": {},
     "output_type": "execute_result"
    }
   ],
   "source": [
    "df_melt.dtypes"
   ]
  },
  {
   "cell_type": "code",
   "execution_count": 139,
   "id": "065a97f6-de2d-408f-9d81-b47b74e05cac",
   "metadata": {},
   "outputs": [],
   "source": [
    "df_melt.to_excel(f'../input_data/{file_name}_clean.xlsx',index='False')"
   ]
  },
  {
   "cell_type": "code",
   "execution_count": 140,
   "id": "c05e77a2-4fe6-4f05-a74d-2efc468abdf0",
   "metadata": {},
   "outputs": [],
   "source": [
    "df_meta = pd.read_excel(f'../input_data/202409_climate_democracy_metadata.xlsx',\n",
    "                        sheet_name=\"Variables\",index_col='Variable')"
   ]
  },
  {
   "cell_type": "code",
   "execution_count": 86,
   "id": "fbfd0651-f955-4f8d-886e-d3e690fae119",
   "metadata": {},
   "outputs": [
    {
     "data": {
      "text/plain": [
       "\"per501 captures parties' emphasis on environmental issues for one country-year; this is the minimum value for the country-year\""
      ]
     },
     "execution_count": 86,
     "metadata": {},
     "output_type": "execute_result"
    }
   ],
   "source": [
    "df_meta.loc['min_per501','Interpretation']"
   ]
  },
  {
   "cell_type": "code",
   "execution_count": null,
   "id": "99e22b4b-8cd9-44c5-9308-25b3bb1959b3",
   "metadata": {},
   "outputs": [],
   "source": []
  }
 ],
 "metadata": {
  "kernelspec": {
   "display_name": "Python 3 (ipykernel)",
   "language": "python",
   "name": "python3"
  },
  "language_info": {
   "codemirror_mode": {
    "name": "ipython",
    "version": 3
   },
   "file_extension": ".py",
   "mimetype": "text/x-python",
   "name": "python",
   "nbconvert_exporter": "python",
   "pygments_lexer": "ipython3",
   "version": "3.9.16"
  }
 },
 "nbformat": 4,
 "nbformat_minor": 5
}
